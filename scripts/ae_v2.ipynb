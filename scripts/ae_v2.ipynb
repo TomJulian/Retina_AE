{
 "cells": [
  {
   "cell_type": "markdown",
   "id": "3ccace72-9bc3-4e29-b1d2-9bf54c4f3364",
   "metadata": {},
   "source": [
    "# Autoencoder-based phenotype derivation v2\n",
    "- A different autoencoder that takes an image larger than 32 x 32\n",
    "- Use VOTj left-aligned (probably; check on nepari later) images\n",
    "- "
   ]
  },
  {
   "cell_type": "code",
   "execution_count": 28,
   "id": "5cf08508-08a8-4c8a-a8bd-40fba91324fa",
   "metadata": {},
   "outputs": [],
   "source": [
    "# Required libraries\n",
    "import os\n",
    "import math\n",
    "import pims\n",
    "import bioformats\n",
    "from natsort import natsorted\n",
    "import torch\n",
    "import torchvision\n",
    "import random\n",
    "import numpy as np\n",
    "import pandas as pd\n",
    "import skimage as ski\n",
    "from PIL import Image as PILImage\n",
    "from PIL.ExifTags import TAGS\n",
    "import matplotlib.pyplot as plt\n",
    "# from aicsimageio import AICSImage\n",
    "from torchvision.io import read_image\n",
    "from torchvision.utils import save_image\n",
    "from torchvision.transforms import v2 as transforms"
   ]
  },
  {
   "cell_type": "code",
   "execution_count": 2,
   "id": "358b3ab3-5150-474a-b687-e91b0082ebf1",
   "metadata": {},
   "outputs": [
    {
     "name": "stdout",
     "output_type": "stream",
     "text": [
      "cuda\n"
     ]
    }
   ],
   "source": [
    "device = \"cuda\" if torch.cuda.is_available() else \"cpu\"\n",
    "print(device)"
   ]
  },
  {
   "cell_type": "code",
   "execution_count": 3,
   "id": "d460686c-99b0-4207-8e32-76cb571c901f",
   "metadata": {},
   "outputs": [
    {
     "data": {
      "text/plain": [
       "<torch._C.Generator at 0x7f8d8e88bd10>"
      ]
     },
     "execution_count": 3,
     "metadata": {},
     "output_type": "execute_result"
    }
   ],
   "source": [
    "torch.manual_seed(1)"
   ]
  },
  {
   "cell_type": "code",
   "execution_count": 4,
   "id": "e69b4e76-450a-4868-8de3-95702a44c36f",
   "metadata": {},
   "outputs": [
    {
     "name": "stdout",
     "output_type": "stream",
     "text": [
      "12.1\n"
     ]
    }
   ],
   "source": [
    "print(torch.version.cuda)"
   ]
  },
  {
   "cell_type": "markdown",
   "id": "ee1c00ba-7568-4d1a-ad05-52df0bd6136a",
   "metadata": {},
   "source": [
    "#### Normalize each image of the VOTj results (votj_aligned_images_align_any) between [0, 255] and output"
   ]
  },
  {
   "cell_type": "code",
   "execution_count": 24,
   "id": "031df2be-476c-4e52-af0b-b4b360249586",
   "metadata": {},
   "outputs": [],
   "source": [
    "# Custom min-max scaling function to pass into Compose; transforms pixel values to range [0,255] for each image individually\n",
    "class MinMaxScaling:\n",
    "    def __call__(self, tensor):\n",
    "        return (tensor - tensor.min()) / (tensor.max() - tensor.min()) * 255"
   ]
  },
  {
   "cell_type": "code",
   "execution_count": 5,
   "id": "0a9520f0-62ee-4986-bb22-c15564a550c6",
   "metadata": {},
   "outputs": [],
   "source": [
    "transform = transforms.Compose([\n",
    "    # transforms.ToImage(), # Convert to PIL image\n",
    "    transforms.ToDtype(torch.float32, scale=True), # Convert to float32; use instead of deprecated ToTensor()\n",
    "    MinMaxScaling()\n",
    "])"
   ]
  },
  {
   "cell_type": "code",
   "execution_count": 10,
   "id": "200e5f7c-b4d2-4ebd-a4ef-25b51dd37f5b",
   "metadata": {},
   "outputs": [
    {
     "name": "stdout",
     "output_type": "stream",
     "text": [
      "2353\n"
     ]
    }
   ],
   "source": [
    "# within-image normalization\n",
    "normalized_votj_dir = '/nfs/research/birney/users/esther/medaka-img/votj_aligned_images_align_any_within_normalized/'\n",
    "if not os.path.exists(normalized_votj_dir):\n",
    "    os.makedirs(normalized_votj_dir)\n",
    "\n",
    "list_files = os.listdir(path = '/nfs/research/birney/users/esther/medaka-img/votj_aligned_images_align_any/')\n",
    "print(len(list_files))\n",
    "\n",
    "for file in natsorted(list_files):\n",
    "    if file.endswith('.tif'):\n",
    "        image = ski.io.imread('/nfs/research/birney/users/esther/medaka-img/votj_aligned_images_align_any/' + file)\n",
    "        image_normalized = transform(image)\n",
    "        ski.io.imsave(normalized_votj_dir + '/' + file, image_normalized)\n",
    "    else:\n",
    "        print('File ' + file + ' is not a .tif file')\n",
    "        continue"
   ]
  },
  {
   "cell_type": "markdown",
   "id": "36e1af12-2f6c-4305-a57e-e7393b784de7",
   "metadata": {},
   "source": [
    "#### Normalize across the entirety of the VOTj results (votj_aligned_images_align_any) and output"
   ]
  },
  {
   "cell_type": "code",
   "execution_count": null,
   "id": "79cd2e65-0e10-4add-9666-fefb0bd425d5",
   "metadata": {},
   "outputs": [],
   "source": [
    "# Get mean, stdev\n",
    "import os\n",
    "import numpy as np\n",
    "from PIL import Image\n",
    "\n",
    "imgs_path = '/nfs/research/birney/users/esther/medaka-img/votj_aligned_images_align_any'\n",
    "img_files = [os.path.join(imgs_path, img) for img in os.listdir(imgs_path) if img.endswith('.tif')]\n",
    "\n",
    "rgb_values = np.concatenate(\n",
    "    [Image.open(img).getdata() for img in img_files], \n",
    "    axis=0\n",
    ") / 255\n",
    "\n",
    "mean_rgb = np.mean(rgb_values, axis=0)  # mean_rgb.shape == (3,)\n",
    "std_rgb = np.std(rgb_values, axis=0)  # std_rgb.shape == (3,)\n",
    "\n",
    "print(mean_rgb)\n",
    "print(std_rgb)"
   ]
  },
  {
   "cell_type": "code",
   "execution_count": null,
   "id": "f5e2fd71-8eda-46cb-a352-019d506a4eb9",
   "metadata": {},
   "outputs": [],
   "source": [
    "transform = transforms.Compose([\n",
    "    # transforms.ToImage(), # Convert to PIL image\n",
    "    transforms.ToDtype(torch.float32, scale=True), # Convert to float32; use instead of deprecated ToTensor()\n",
    "    transforms.Normalize((mean_rgb),(std_rgb))\n",
    "])"
   ]
  },
  {
   "cell_type": "code",
   "execution_count": null,
   "id": "6932b848-2413-456f-a455-060530611d8e",
   "metadata": {},
   "outputs": [],
   "source": [
    "# whole dataset normalization\n",
    "normalized_votj_dir = '/nfs/research/birney/users/esther/medaka-img/votj_aligned_images_align_any_wholedata_normalized/'\n",
    "if not os.path.exists(normalized_votj_dir):\n",
    "    os.makedirs(normalized_votj_dir)\n",
    "\n",
    "list_files = os.listdir(path = '/nfs/research/birney/users/esther/medaka-img/votj_aligned_images_align_any/')\n",
    "print(len(list_files))\n",
    "\n",
    "for file in natsorted(list_files):\n",
    "    if file.endswith('.tif'):\n",
    "        image = ski.io.imread('/nfs/research/birney/users/esther/medaka-img/votj_aligned_images_align_any/' + file)\n",
    "        image_normalized = transform(image)\n",
    "        ski.io.imsave(normalized_votj_dir + '/' + file, image_normalized)\n",
    "    else:\n",
    "        print('File ' + file + ' is not a .tif file')\n",
    "        continue"
   ]
  },
  {
   "cell_type": "markdown",
   "id": "0733c76f-10ba-44e1-81eb-157b1ab77565",
   "metadata": {},
   "source": [
    "### Implement a vanilla autoencoder model from pythae"
   ]
  },
  {
   "cell_type": "code",
   "execution_count": 6,
   "id": "2cc759c8-ebb6-4612-85f7-83946b2f837f",
   "metadata": {},
   "outputs": [],
   "source": [
    "# Try vanilla CELEBA resnet model\n",
    "# input_dim = (3, 64, 64)\n",
    "# latent_dim = 16\n",
    "\n",
    "from pythae.models import AE, AEConfig\n",
    "from pythae.trainers import BaseTrainerConfig\n",
    "from pythae.pipelines.training import TrainingPipeline\n",
    "from pythae.models.nn.benchmarks.celeba import Encoder_ResNet_AE_CELEBA, Decoder_ResNet_AE_CELEBA"
   ]
  },
  {
   "cell_type": "code",
   "execution_count": 7,
   "id": "948acb72-6b3c-415f-aa15-b9ae46f1cd0c",
   "metadata": {},
   "outputs": [],
   "source": [
    "model_config = AEConfig(\n",
    "    input_dim=(3, 64, 64),\n",
    "    latent_dim=16\n",
    ")\n",
    "\n",
    "model = AE(\n",
    "    model_config=model_config,\n",
    "    encoder=Encoder_ResNet_AE_CELEBA(model_config), \n",
    "    decoder=Decoder_ResNet_AE_CELEBA(model_config) \n",
    ")"
   ]
  },
  {
   "cell_type": "code",
   "execution_count": 99,
   "id": "a17a57a1-9817-44aa-bc3a-572e9cad9d14",
   "metadata": {},
   "outputs": [],
   "source": [
    "ae_transform = transforms.Compose([\n",
    "    transforms.ToDtype(torch.float32, scale=True), # Convert to float32; use instead of deprecated ToTensor()\n",
    "    MinMaxScaling(),\n",
    "    transforms.ToImage(), # Convert to PIL image\n",
    "    transforms.Resize(size = (64,64))\n",
    "])"
   ]
  },
  {
   "cell_type": "code",
   "execution_count": 78,
   "id": "11c6e65f-9589-4552-b8d0-b7d2a7dc8fbc",
   "metadata": {},
   "outputs": [
    {
     "data": {
      "image/png": "[encoded data removed]",
      "text/plain": [
       "<Figure size 640x480 with 1 Axes>"
      ]
     },
     "metadata": {},
     "output_type": "display_data"
    },
    {
     "name": "stdout",
     "output_type": "stream",
     "text": [
      "(1702, 1702, 3)\n"
     ]
    }
   ],
   "source": [
    "test_img = '/nfs/research/birney/users/esther/medaka-img/votj_aligned_images_align_any/PLATE 1 F2 VC_Female 95-1 F14 x Male 72-1 F14_A01.tif-aligned.tif'\n",
    "\n",
    "img = ski.io.imread(test_img)\n",
    "plt.imshow(img)\n",
    "plt.show()\n",
    "\n",
    "print(img.shape)"
   ]
  },
  {
   "cell_type": "code",
   "execution_count": 100,
   "id": "c68d6891-a83e-4715-b67c-5d098dfab644",
   "metadata": {},
   "outputs": [
    {
     "name": "stderr",
     "output_type": "stream",
     "text": [
      "Clipping input data to the valid range for imshow with RGB data ([0..1] for floats or [0..255] for integers).\n"
     ]
    },
    {
     "name": "stdout",
     "output_type": "stream",
     "text": [
      "torch.Size([64, 64, 3])\n"
     ]
    },
    {
     "data": {
      "image/png": "[encoded data removed]",
      "text/plain": [
       "<Figure size 640x480 with 1 Axes>"
      ]
     },
     "metadata": {},
     "output_type": "display_data"
    }
   ],
   "source": [
    "# transform(PILImage.fromarray(img)).unsqueeze(0)\n",
    "\n",
    "# plt.imshow(PILImage.fromarray(transform(img)).unsqueeze(0))\n",
    "plt.imshow(np.transpose(ae_transform(img).squeeze(0), (1, 2, 0)))\n",
    "\n",
    "print(np.transpose(ae_transform(img).squeeze(0), (1, 2, 0)).shape)"
   ]
  },
  {
   "cell_type": "code",
   "execution_count": 106,
   "id": "802782ef-0d95-4c62-be21-9e39345e3449",
   "metadata": {},
   "outputs": [
    {
     "name": "stdout",
     "output_type": "stream",
     "text": [
      "tensor(98.9498, dtype=torch.float64)\n",
      "tensor(0., dtype=torch.float64)\n"
     ]
    }
   ],
   "source": [
    "print(ae_transform(img).max())\n",
    "print(ae_transform(img).min())"
   ]
  },
  {
   "cell_type": "code",
   "execution_count": 114,
   "id": "a9836415-dec0-4161-8adb-b1f18e638fc6",
   "metadata": {},
   "outputs": [],
   "source": [
    "feature = model.encoder(torch.rand(1, 3, 64, 64))"
   ]
  },
  {
   "cell_type": "code",
   "execution_count": null,
   "id": "3366f356-d11f-4a30-b93c-1e8697c5bebf",
   "metadata": {},
   "outputs": [],
   "source": [
    "feature_matrix = []\n",
    "counter = 0\n",
    "\n",
    "vanilla_ae_input_path = '/nfs/research/birney/users/esther/medaka-img/votj_aligned_images_align_any'\n",
    "\n",
    "for img_name in natsorted(os.listdir(path = vanilla_ae_input_path)):\n",
    "    counter += 1\n",
    "    img = ski.io.imread(vanilla_ae_input_path + \"/\" + img_name)\n",
    "    input_img = ae_transform(img).float().squeeze(0)\n",
    "    feature = model.encoder(input_img.unsqueeze(0)) # model.encoder needs dimension (1, 3, 64, 64)\n",
    "\n",
    "    feature_matrix.append(feature[0].detach())\n",
    "    if counter % 10 == 0:\n",
    "        print(counter)"
   ]
  },
  {
   "cell_type": "code",
   "execution_count": 120,
   "id": "e1cbb5e3-e9a6-4df2-85b0-a9ee26c14398",
   "metadata": {},
   "outputs": [],
   "source": [
    "torch.save(feature_matrix, ('/nfs/research/birney/users/esther/medaka-img/features/pythae_ResNet_AE_vanilla_CELEBA_05092024.pt'))"
   ]
  }
 ],
 "metadata": {
  "kernelspec": {
   "display_name": "indigene-img",
   "language": "python",
   "name": "indigene-img"
  },
  "language_info": {
   "codemirror_mode": {
    "name": "ipython",
    "version": 3
   },
   "file_extension": ".py",
   "mimetype": "text/x-python",
   "name": "python",
   "nbconvert_exporter": "python",
   "pygments_lexer": "ipython3",
   "version": "3.9.1"
  }
 },
 "nbformat": 4,
 "nbformat_minor": 5
}
